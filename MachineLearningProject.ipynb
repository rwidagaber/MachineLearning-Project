{
  "nbformat": 4,
  "nbformat_minor": 0,
  "metadata": {
    "colab": {
      "provenance": [],
      "mount_file_id": "1XYGryMvUDqsRpjSPhd8O4TZkLqUfdsaG",
      "authorship_tag": "ABX9TyOdYh35jJTAQK1+kF7AqpTr",
      "include_colab_link": true
    },
    "kernelspec": {
      "name": "python3",
      "display_name": "Python 3"
    },
    "language_info": {
      "name": "python"
    }
  },
  "cells": [
    {
      "cell_type": "markdown",
      "metadata": {
        "id": "view-in-github",
        "colab_type": "text"
      },
      "source": [
        "<a href=\"https://colab.research.google.com/github/rwidagaber/MachineLearning-Project/blob/main/MachineLearningProject.ipynb\" target=\"_parent\"><img src=\"https://colab.research.google.com/assets/colab-badge.svg\" alt=\"Open In Colab\"/></a>"
      ]
    },
    {
      "cell_type": "code",
      "source": [
        "import pandas as pd\n",
        "import matplotlib.pyplot as plt\n",
        "from sklearn.metrics import accuracy_score\n",
        "import seaborn as sns"
      ],
      "metadata": {
        "id": "gr_HEQ78klu1"
      },
      "execution_count": null,
      "outputs": []
    },
    {
      "cell_type": "code",
      "source": [
        "r=open('/content/drive/MyDrive/Dataset_Network .csv').read()"
      ],
      "metadata": {
        "id": "PKokS7hgsKrt"
      },
      "execution_count": 13,
      "outputs": []
    },
    {
      "cell_type": "code",
      "source": [
        "df=pd.read_csv('/content/drive/MyDrive/Dataset_Network .csv')\n",
        "df"
      ],
      "metadata": {
        "colab": {
          "base_uri": "https://localhost:8080/",
          "height": 600
        },
        "id": "lhZrMpG_kppp",
        "outputId": "c4240219-d796-4c6c-ddf1-3e49a1fba571"
      },
      "execution_count": 14,
      "outputs": [
        {
          "output_type": "execute_result",
          "data": {
            "text/plain": [
              "        Unique ID LABEL          REG  MCK   LCR    LU    PP USER_NETWORK  \\\n",
              "0               1     d        DELTA   11  0.00    57  0.00           4G   \n",
              "1               2     p  UPPER EGYPT    0  0.01   288  0.02           2G   \n",
              "2               3     d   ALEXANDRIA   16  0.08    87  0.00           4G   \n",
              "3               4     d        DELTA    0  0.35   990  0.01          NaN   \n",
              "4               5     p        CANAL    2  0.04   182  0.30           4G   \n",
              "...           ...   ...          ...  ...   ...   ...   ...          ...   \n",
              "312665     312661     d         GIZA    0  0.18   290  0.00           4G   \n",
              "312666     312662     d        DELTA   75  0.07  1240  0.01           3G   \n",
              "312667     312663     d        DELTA  179  0.78  3370  0.00          NaN   \n",
              "312668     312664     d        DELTA   78  0.04  1813  0.54          NaN   \n",
              "312669     312665     d        CAIRO  104  0.20   725  0.08          NaN   \n",
              "\n",
              "                                              MANUFACTURE HS_VOLTE  CUST_CAT  \\\n",
              "0                                                 Samsung        Y      Core   \n",
              "1                                           HMD Global Oy        N      Core   \n",
              "2                            Xiaomi Communications Co Ltd        Y      Core   \n",
              "3                                                     NaN      NaN  Med-High   \n",
              "4                              INFINIX TECHNOLOGY LIMITED        N   Med-Low   \n",
              "...                                                   ...      ...       ...   \n",
              "312665  Realme Chongqing Mobile Telecommunications Cor...        N       NaN   \n",
              "312666                                      Samsung Korea        N       NaN   \n",
              "312667                                                NaN      NaN       NaN   \n",
              "312668                                                NaN      NaN       NaN   \n",
              "312669                                                NaN      NaN       NaN   \n",
              "\n",
              "       SIM_TYPE PROV_4G PROV_VOLTE   D2G    D3G     D4G     V2G     V3G   V4G  \n",
              "0             Y       Y          Y  0.00   6.58   93.42    0.00  100.00  0.00  \n",
              "1             Y       Y          Y  0.00   0.00    0.00  100.00    0.00  0.00  \n",
              "2             Y       Y          Y  0.00   0.00    0.00    4.88   95.12  0.00  \n",
              "3             N       N          N  0.82  99.18    0.00   34.29   65.71  0.00  \n",
              "4             Y       Y          Y  0.00   0.03   99.97    0.56   99.44  0.00  \n",
              "...         ...     ...        ...   ...    ...     ...     ...     ...   ...  \n",
              "312665      NaN       N          N  0.00   0.00  100.00   19.54   80.46  0.00  \n",
              "312666      NaN       N          N  0.23  99.77    0.00    7.61   92.39  0.00  \n",
              "312667      NaN       N          N  3.47  27.55   68.98   23.14   76.86  0.00  \n",
              "312668      NaN       N          N  1.00  24.22   74.78    8.53   85.82  5.65  \n",
              "312669      NaN       N          N  0.00  11.60   88.40    6.32   93.68  0.00  \n",
              "\n",
              "[312670 rows x 20 columns]"
            ],
            "text/html": [
              "\n",
              "  <div id=\"df-76fe19d7-fb4b-4435-8819-5baf9ffee091\" class=\"colab-df-container\">\n",
              "    <div>\n",
              "<style scoped>\n",
              "    .dataframe tbody tr th:only-of-type {\n",
              "        vertical-align: middle;\n",
              "    }\n",
              "\n",
              "    .dataframe tbody tr th {\n",
              "        vertical-align: top;\n",
              "    }\n",
              "\n",
              "    .dataframe thead th {\n",
              "        text-align: right;\n",
              "    }\n",
              "</style>\n",
              "<table border=\"1\" class=\"dataframe\">\n",
              "  <thead>\n",
              "    <tr style=\"text-align: right;\">\n",
              "      <th></th>\n",
              "      <th>Unique ID</th>\n",
              "      <th>LABEL</th>\n",
              "      <th>REG</th>\n",
              "      <th>MCK</th>\n",
              "      <th>LCR</th>\n",
              "      <th>LU</th>\n",
              "      <th>PP</th>\n",
              "      <th>USER_NETWORK</th>\n",
              "      <th>MANUFACTURE</th>\n",
              "      <th>HS_VOLTE</th>\n",
              "      <th>CUST_CAT</th>\n",
              "      <th>SIM_TYPE</th>\n",
              "      <th>PROV_4G</th>\n",
              "      <th>PROV_VOLTE</th>\n",
              "      <th>D2G</th>\n",
              "      <th>D3G</th>\n",
              "      <th>D4G</th>\n",
              "      <th>V2G</th>\n",
              "      <th>V3G</th>\n",
              "      <th>V4G</th>\n",
              "    </tr>\n",
              "  </thead>\n",
              "  <tbody>\n",
              "    <tr>\n",
              "      <th>0</th>\n",
              "      <td>1</td>\n",
              "      <td>d</td>\n",
              "      <td>DELTA</td>\n",
              "      <td>11</td>\n",
              "      <td>0.00</td>\n",
              "      <td>57</td>\n",
              "      <td>0.00</td>\n",
              "      <td>4G</td>\n",
              "      <td>Samsung</td>\n",
              "      <td>Y</td>\n",
              "      <td>Core</td>\n",
              "      <td>Y</td>\n",
              "      <td>Y</td>\n",
              "      <td>Y</td>\n",
              "      <td>0.00</td>\n",
              "      <td>6.58</td>\n",
              "      <td>93.42</td>\n",
              "      <td>0.00</td>\n",
              "      <td>100.00</td>\n",
              "      <td>0.00</td>\n",
              "    </tr>\n",
              "    <tr>\n",
              "      <th>1</th>\n",
              "      <td>2</td>\n",
              "      <td>p</td>\n",
              "      <td>UPPER EGYPT</td>\n",
              "      <td>0</td>\n",
              "      <td>0.01</td>\n",
              "      <td>288</td>\n",
              "      <td>0.02</td>\n",
              "      <td>2G</td>\n",
              "      <td>HMD Global Oy</td>\n",
              "      <td>N</td>\n",
              "      <td>Core</td>\n",
              "      <td>Y</td>\n",
              "      <td>Y</td>\n",
              "      <td>Y</td>\n",
              "      <td>0.00</td>\n",
              "      <td>0.00</td>\n",
              "      <td>0.00</td>\n",
              "      <td>100.00</td>\n",
              "      <td>0.00</td>\n",
              "      <td>0.00</td>\n",
              "    </tr>\n",
              "    <tr>\n",
              "      <th>2</th>\n",
              "      <td>3</td>\n",
              "      <td>d</td>\n",
              "      <td>ALEXANDRIA</td>\n",
              "      <td>16</td>\n",
              "      <td>0.08</td>\n",
              "      <td>87</td>\n",
              "      <td>0.00</td>\n",
              "      <td>4G</td>\n",
              "      <td>Xiaomi Communications Co Ltd</td>\n",
              "      <td>Y</td>\n",
              "      <td>Core</td>\n",
              "      <td>Y</td>\n",
              "      <td>Y</td>\n",
              "      <td>Y</td>\n",
              "      <td>0.00</td>\n",
              "      <td>0.00</td>\n",
              "      <td>0.00</td>\n",
              "      <td>4.88</td>\n",
              "      <td>95.12</td>\n",
              "      <td>0.00</td>\n",
              "    </tr>\n",
              "    <tr>\n",
              "      <th>3</th>\n",
              "      <td>4</td>\n",
              "      <td>d</td>\n",
              "      <td>DELTA</td>\n",
              "      <td>0</td>\n",
              "      <td>0.35</td>\n",
              "      <td>990</td>\n",
              "      <td>0.01</td>\n",
              "      <td>NaN</td>\n",
              "      <td>NaN</td>\n",
              "      <td>NaN</td>\n",
              "      <td>Med-High</td>\n",
              "      <td>N</td>\n",
              "      <td>N</td>\n",
              "      <td>N</td>\n",
              "      <td>0.82</td>\n",
              "      <td>99.18</td>\n",
              "      <td>0.00</td>\n",
              "      <td>34.29</td>\n",
              "      <td>65.71</td>\n",
              "      <td>0.00</td>\n",
              "    </tr>\n",
              "    <tr>\n",
              "      <th>4</th>\n",
              "      <td>5</td>\n",
              "      <td>p</td>\n",
              "      <td>CANAL</td>\n",
              "      <td>2</td>\n",
              "      <td>0.04</td>\n",
              "      <td>182</td>\n",
              "      <td>0.30</td>\n",
              "      <td>4G</td>\n",
              "      <td>INFINIX TECHNOLOGY LIMITED</td>\n",
              "      <td>N</td>\n",
              "      <td>Med-Low</td>\n",
              "      <td>Y</td>\n",
              "      <td>Y</td>\n",
              "      <td>Y</td>\n",
              "      <td>0.00</td>\n",
              "      <td>0.03</td>\n",
              "      <td>99.97</td>\n",
              "      <td>0.56</td>\n",
              "      <td>99.44</td>\n",
              "      <td>0.00</td>\n",
              "    </tr>\n",
              "    <tr>\n",
              "      <th>...</th>\n",
              "      <td>...</td>\n",
              "      <td>...</td>\n",
              "      <td>...</td>\n",
              "      <td>...</td>\n",
              "      <td>...</td>\n",
              "      <td>...</td>\n",
              "      <td>...</td>\n",
              "      <td>...</td>\n",
              "      <td>...</td>\n",
              "      <td>...</td>\n",
              "      <td>...</td>\n",
              "      <td>...</td>\n",
              "      <td>...</td>\n",
              "      <td>...</td>\n",
              "      <td>...</td>\n",
              "      <td>...</td>\n",
              "      <td>...</td>\n",
              "      <td>...</td>\n",
              "      <td>...</td>\n",
              "      <td>...</td>\n",
              "    </tr>\n",
              "    <tr>\n",
              "      <th>312665</th>\n",
              "      <td>312661</td>\n",
              "      <td>d</td>\n",
              "      <td>GIZA</td>\n",
              "      <td>0</td>\n",
              "      <td>0.18</td>\n",
              "      <td>290</td>\n",
              "      <td>0.00</td>\n",
              "      <td>4G</td>\n",
              "      <td>Realme Chongqing Mobile Telecommunications Cor...</td>\n",
              "      <td>N</td>\n",
              "      <td>NaN</td>\n",
              "      <td>NaN</td>\n",
              "      <td>N</td>\n",
              "      <td>N</td>\n",
              "      <td>0.00</td>\n",
              "      <td>0.00</td>\n",
              "      <td>100.00</td>\n",
              "      <td>19.54</td>\n",
              "      <td>80.46</td>\n",
              "      <td>0.00</td>\n",
              "    </tr>\n",
              "    <tr>\n",
              "      <th>312666</th>\n",
              "      <td>312662</td>\n",
              "      <td>d</td>\n",
              "      <td>DELTA</td>\n",
              "      <td>75</td>\n",
              "      <td>0.07</td>\n",
              "      <td>1240</td>\n",
              "      <td>0.01</td>\n",
              "      <td>3G</td>\n",
              "      <td>Samsung Korea</td>\n",
              "      <td>N</td>\n",
              "      <td>NaN</td>\n",
              "      <td>NaN</td>\n",
              "      <td>N</td>\n",
              "      <td>N</td>\n",
              "      <td>0.23</td>\n",
              "      <td>99.77</td>\n",
              "      <td>0.00</td>\n",
              "      <td>7.61</td>\n",
              "      <td>92.39</td>\n",
              "      <td>0.00</td>\n",
              "    </tr>\n",
              "    <tr>\n",
              "      <th>312667</th>\n",
              "      <td>312663</td>\n",
              "      <td>d</td>\n",
              "      <td>DELTA</td>\n",
              "      <td>179</td>\n",
              "      <td>0.78</td>\n",
              "      <td>3370</td>\n",
              "      <td>0.00</td>\n",
              "      <td>NaN</td>\n",
              "      <td>NaN</td>\n",
              "      <td>NaN</td>\n",
              "      <td>NaN</td>\n",
              "      <td>NaN</td>\n",
              "      <td>N</td>\n",
              "      <td>N</td>\n",
              "      <td>3.47</td>\n",
              "      <td>27.55</td>\n",
              "      <td>68.98</td>\n",
              "      <td>23.14</td>\n",
              "      <td>76.86</td>\n",
              "      <td>0.00</td>\n",
              "    </tr>\n",
              "    <tr>\n",
              "      <th>312668</th>\n",
              "      <td>312664</td>\n",
              "      <td>d</td>\n",
              "      <td>DELTA</td>\n",
              "      <td>78</td>\n",
              "      <td>0.04</td>\n",
              "      <td>1813</td>\n",
              "      <td>0.54</td>\n",
              "      <td>NaN</td>\n",
              "      <td>NaN</td>\n",
              "      <td>NaN</td>\n",
              "      <td>NaN</td>\n",
              "      <td>NaN</td>\n",
              "      <td>N</td>\n",
              "      <td>N</td>\n",
              "      <td>1.00</td>\n",
              "      <td>24.22</td>\n",
              "      <td>74.78</td>\n",
              "      <td>8.53</td>\n",
              "      <td>85.82</td>\n",
              "      <td>5.65</td>\n",
              "    </tr>\n",
              "    <tr>\n",
              "      <th>312669</th>\n",
              "      <td>312665</td>\n",
              "      <td>d</td>\n",
              "      <td>CAIRO</td>\n",
              "      <td>104</td>\n",
              "      <td>0.20</td>\n",
              "      <td>725</td>\n",
              "      <td>0.08</td>\n",
              "      <td>NaN</td>\n",
              "      <td>NaN</td>\n",
              "      <td>NaN</td>\n",
              "      <td>NaN</td>\n",
              "      <td>NaN</td>\n",
              "      <td>N</td>\n",
              "      <td>N</td>\n",
              "      <td>0.00</td>\n",
              "      <td>11.60</td>\n",
              "      <td>88.40</td>\n",
              "      <td>6.32</td>\n",
              "      <td>93.68</td>\n",
              "      <td>0.00</td>\n",
              "    </tr>\n",
              "  </tbody>\n",
              "</table>\n",
              "<p>312670 rows × 20 columns</p>\n",
              "</div>\n",
              "    <div class=\"colab-df-buttons\">\n",
              "\n",
              "  <div class=\"colab-df-container\">\n",
              "    <button class=\"colab-df-convert\" onclick=\"convertToInteractive('df-76fe19d7-fb4b-4435-8819-5baf9ffee091')\"\n",
              "            title=\"Convert this dataframe to an interactive table.\"\n",
              "            style=\"display:none;\">\n",
              "\n",
              "  <svg xmlns=\"http://www.w3.org/2000/svg\" height=\"24px\" viewBox=\"0 -960 960 960\">\n",
              "    <path d=\"M120-120v-720h720v720H120Zm60-500h600v-160H180v160Zm220 220h160v-160H400v160Zm0 220h160v-160H400v160ZM180-400h160v-160H180v160Zm440 0h160v-160H620v160ZM180-180h160v-160H180v160Zm440 0h160v-160H620v160Z\"/>\n",
              "  </svg>\n",
              "    </button>\n",
              "\n",
              "  <style>\n",
              "    .colab-df-container {\n",
              "      display:flex;\n",
              "      gap: 12px;\n",
              "    }\n",
              "\n",
              "    .colab-df-convert {\n",
              "      background-color: #E8F0FE;\n",
              "      border: none;\n",
              "      border-radius: 50%;\n",
              "      cursor: pointer;\n",
              "      display: none;\n",
              "      fill: #1967D2;\n",
              "      height: 32px;\n",
              "      padding: 0 0 0 0;\n",
              "      width: 32px;\n",
              "    }\n",
              "\n",
              "    .colab-df-convert:hover {\n",
              "      background-color: #E2EBFA;\n",
              "      box-shadow: 0px 1px 2px rgba(60, 64, 67, 0.3), 0px 1px 3px 1px rgba(60, 64, 67, 0.15);\n",
              "      fill: #174EA6;\n",
              "    }\n",
              "\n",
              "    .colab-df-buttons div {\n",
              "      margin-bottom: 4px;\n",
              "    }\n",
              "\n",
              "    [theme=dark] .colab-df-convert {\n",
              "      background-color: #3B4455;\n",
              "      fill: #D2E3FC;\n",
              "    }\n",
              "\n",
              "    [theme=dark] .colab-df-convert:hover {\n",
              "      background-color: #434B5C;\n",
              "      box-shadow: 0px 1px 3px 1px rgba(0, 0, 0, 0.15);\n",
              "      filter: drop-shadow(0px 1px 2px rgba(0, 0, 0, 0.3));\n",
              "      fill: #FFFFFF;\n",
              "    }\n",
              "  </style>\n",
              "\n",
              "    <script>\n",
              "      const buttonEl =\n",
              "        document.querySelector('#df-76fe19d7-fb4b-4435-8819-5baf9ffee091 button.colab-df-convert');\n",
              "      buttonEl.style.display =\n",
              "        google.colab.kernel.accessAllowed ? 'block' : 'none';\n",
              "\n",
              "      async function convertToInteractive(key) {\n",
              "        const element = document.querySelector('#df-76fe19d7-fb4b-4435-8819-5baf9ffee091');\n",
              "        const dataTable =\n",
              "          await google.colab.kernel.invokeFunction('convertToInteractive',\n",
              "                                                    [key], {});\n",
              "        if (!dataTable) return;\n",
              "\n",
              "        const docLinkHtml = 'Like what you see? Visit the ' +\n",
              "          '<a target=\"_blank\" href=https://colab.research.google.com/notebooks/data_table.ipynb>data table notebook</a>'\n",
              "          + ' to learn more about interactive tables.';\n",
              "        element.innerHTML = '';\n",
              "        dataTable['output_type'] = 'display_data';\n",
              "        await google.colab.output.renderOutput(dataTable, element);\n",
              "        const docLink = document.createElement('div');\n",
              "        docLink.innerHTML = docLinkHtml;\n",
              "        element.appendChild(docLink);\n",
              "      }\n",
              "    </script>\n",
              "  </div>\n",
              "\n",
              "\n",
              "<div id=\"df-732f3cf4-1376-4094-ba33-b03dbc000145\">\n",
              "  <button class=\"colab-df-quickchart\" onclick=\"quickchart('df-732f3cf4-1376-4094-ba33-b03dbc000145')\"\n",
              "            title=\"Suggest charts\"\n",
              "            style=\"display:none;\">\n",
              "\n",
              "<svg xmlns=\"http://www.w3.org/2000/svg\" height=\"24px\"viewBox=\"0 0 24 24\"\n",
              "     width=\"24px\">\n",
              "    <g>\n",
              "        <path d=\"M19 3H5c-1.1 0-2 .9-2 2v14c0 1.1.9 2 2 2h14c1.1 0 2-.9 2-2V5c0-1.1-.9-2-2-2zM9 17H7v-7h2v7zm4 0h-2V7h2v10zm4 0h-2v-4h2v4z\"/>\n",
              "    </g>\n",
              "</svg>\n",
              "  </button>\n",
              "\n",
              "<style>\n",
              "  .colab-df-quickchart {\n",
              "      --bg-color: #E8F0FE;\n",
              "      --fill-color: #1967D2;\n",
              "      --hover-bg-color: #E2EBFA;\n",
              "      --hover-fill-color: #174EA6;\n",
              "      --disabled-fill-color: #AAA;\n",
              "      --disabled-bg-color: #DDD;\n",
              "  }\n",
              "\n",
              "  [theme=dark] .colab-df-quickchart {\n",
              "      --bg-color: #3B4455;\n",
              "      --fill-color: #D2E3FC;\n",
              "      --hover-bg-color: #434B5C;\n",
              "      --hover-fill-color: #FFFFFF;\n",
              "      --disabled-bg-color: #3B4455;\n",
              "      --disabled-fill-color: #666;\n",
              "  }\n",
              "\n",
              "  .colab-df-quickchart {\n",
              "    background-color: var(--bg-color);\n",
              "    border: none;\n",
              "    border-radius: 50%;\n",
              "    cursor: pointer;\n",
              "    display: none;\n",
              "    fill: var(--fill-color);\n",
              "    height: 32px;\n",
              "    padding: 0;\n",
              "    width: 32px;\n",
              "  }\n",
              "\n",
              "  .colab-df-quickchart:hover {\n",
              "    background-color: var(--hover-bg-color);\n",
              "    box-shadow: 0 1px 2px rgba(60, 64, 67, 0.3), 0 1px 3px 1px rgba(60, 64, 67, 0.15);\n",
              "    fill: var(--button-hover-fill-color);\n",
              "  }\n",
              "\n",
              "  .colab-df-quickchart-complete:disabled,\n",
              "  .colab-df-quickchart-complete:disabled:hover {\n",
              "    background-color: var(--disabled-bg-color);\n",
              "    fill: var(--disabled-fill-color);\n",
              "    box-shadow: none;\n",
              "  }\n",
              "\n",
              "  .colab-df-spinner {\n",
              "    border: 2px solid var(--fill-color);\n",
              "    border-color: transparent;\n",
              "    border-bottom-color: var(--fill-color);\n",
              "    animation:\n",
              "      spin 1s steps(1) infinite;\n",
              "  }\n",
              "\n",
              "  @keyframes spin {\n",
              "    0% {\n",
              "      border-color: transparent;\n",
              "      border-bottom-color: var(--fill-color);\n",
              "      border-left-color: var(--fill-color);\n",
              "    }\n",
              "    20% {\n",
              "      border-color: transparent;\n",
              "      border-left-color: var(--fill-color);\n",
              "      border-top-color: var(--fill-color);\n",
              "    }\n",
              "    30% {\n",
              "      border-color: transparent;\n",
              "      border-left-color: var(--fill-color);\n",
              "      border-top-color: var(--fill-color);\n",
              "      border-right-color: var(--fill-color);\n",
              "    }\n",
              "    40% {\n",
              "      border-color: transparent;\n",
              "      border-right-color: var(--fill-color);\n",
              "      border-top-color: var(--fill-color);\n",
              "    }\n",
              "    60% {\n",
              "      border-color: transparent;\n",
              "      border-right-color: var(--fill-color);\n",
              "    }\n",
              "    80% {\n",
              "      border-color: transparent;\n",
              "      border-right-color: var(--fill-color);\n",
              "      border-bottom-color: var(--fill-color);\n",
              "    }\n",
              "    90% {\n",
              "      border-color: transparent;\n",
              "      border-bottom-color: var(--fill-color);\n",
              "    }\n",
              "  }\n",
              "</style>\n",
              "\n",
              "  <script>\n",
              "    async function quickchart(key) {\n",
              "      const quickchartButtonEl =\n",
              "        document.querySelector('#' + key + ' button');\n",
              "      quickchartButtonEl.disabled = true;  // To prevent multiple clicks.\n",
              "      quickchartButtonEl.classList.add('colab-df-spinner');\n",
              "      try {\n",
              "        const charts = await google.colab.kernel.invokeFunction(\n",
              "            'suggestCharts', [key], {});\n",
              "      } catch (error) {\n",
              "        console.error('Error during call to suggestCharts:', error);\n",
              "      }\n",
              "      quickchartButtonEl.classList.remove('colab-df-spinner');\n",
              "      quickchartButtonEl.classList.add('colab-df-quickchart-complete');\n",
              "    }\n",
              "    (() => {\n",
              "      let quickchartButtonEl =\n",
              "        document.querySelector('#df-732f3cf4-1376-4094-ba33-b03dbc000145 button');\n",
              "      quickchartButtonEl.style.display =\n",
              "        google.colab.kernel.accessAllowed ? 'block' : 'none';\n",
              "    })();\n",
              "  </script>\n",
              "</div>\n",
              "\n",
              "  <div id=\"id_a1830126-0075-44a9-b132-cbe7e98189cf\">\n",
              "    <style>\n",
              "      .colab-df-generate {\n",
              "        background-color: #E8F0FE;\n",
              "        border: none;\n",
              "        border-radius: 50%;\n",
              "        cursor: pointer;\n",
              "        display: none;\n",
              "        fill: #1967D2;\n",
              "        height: 32px;\n",
              "        padding: 0 0 0 0;\n",
              "        width: 32px;\n",
              "      }\n",
              "\n",
              "      .colab-df-generate:hover {\n",
              "        background-color: #E2EBFA;\n",
              "        box-shadow: 0px 1px 2px rgba(60, 64, 67, 0.3), 0px 1px 3px 1px rgba(60, 64, 67, 0.15);\n",
              "        fill: #174EA6;\n",
              "      }\n",
              "\n",
              "      [theme=dark] .colab-df-generate {\n",
              "        background-color: #3B4455;\n",
              "        fill: #D2E3FC;\n",
              "      }\n",
              "\n",
              "      [theme=dark] .colab-df-generate:hover {\n",
              "        background-color: #434B5C;\n",
              "        box-shadow: 0px 1px 3px 1px rgba(0, 0, 0, 0.15);\n",
              "        filter: drop-shadow(0px 1px 2px rgba(0, 0, 0, 0.3));\n",
              "        fill: #FFFFFF;\n",
              "      }\n",
              "    </style>\n",
              "    <button class=\"colab-df-generate\" onclick=\"generateWithVariable('df')\"\n",
              "            title=\"Generate code using this dataframe.\"\n",
              "            style=\"display:none;\">\n",
              "\n",
              "  <svg xmlns=\"http://www.w3.org/2000/svg\" height=\"24px\"viewBox=\"0 0 24 24\"\n",
              "       width=\"24px\">\n",
              "    <path d=\"M7,19H8.4L18.45,9,17,7.55,7,17.6ZM5,21V16.75L18.45,3.32a2,2,0,0,1,2.83,0l1.4,1.43a1.91,1.91,0,0,1,.58,1.4,1.91,1.91,0,0,1-.58,1.4L9.25,21ZM18.45,9,17,7.55Zm-12,3A5.31,5.31,0,0,0,4.9,8.1,5.31,5.31,0,0,0,1,6.5,5.31,5.31,0,0,0,4.9,4.9,5.31,5.31,0,0,0,6.5,1,5.31,5.31,0,0,0,8.1,4.9,5.31,5.31,0,0,0,12,6.5,5.46,5.46,0,0,0,6.5,12Z\"/>\n",
              "  </svg>\n",
              "    </button>\n",
              "    <script>\n",
              "      (() => {\n",
              "      const buttonEl =\n",
              "        document.querySelector('#id_a1830126-0075-44a9-b132-cbe7e98189cf button.colab-df-generate');\n",
              "      buttonEl.style.display =\n",
              "        google.colab.kernel.accessAllowed ? 'block' : 'none';\n",
              "\n",
              "      buttonEl.onclick = () => {\n",
              "        google.colab.notebook.generateWithVariable('df');\n",
              "      }\n",
              "      })();\n",
              "    </script>\n",
              "  </div>\n",
              "\n",
              "    </div>\n",
              "  </div>\n"
            ],
            "application/vnd.google.colaboratory.intrinsic+json": {
              "type": "dataframe",
              "variable_name": "df"
            }
          },
          "metadata": {},
          "execution_count": 14
        }
      ]
    },
    {
      "cell_type": "code",
      "source": [
        "df.info()"
      ],
      "metadata": {
        "colab": {
          "base_uri": "https://localhost:8080/"
        },
        "id": "GzFKjSrqkyxn",
        "outputId": "58d721e0-490c-457b-ca99-dda287b58d65"
      },
      "execution_count": 15,
      "outputs": [
        {
          "output_type": "stream",
          "name": "stdout",
          "text": [
            "<class 'pandas.core.frame.DataFrame'>\n",
            "RangeIndex: 312670 entries, 0 to 312669\n",
            "Data columns (total 20 columns):\n",
            " #   Column        Non-Null Count   Dtype  \n",
            "---  ------        --------------   -----  \n",
            " 0   Unique ID     312670 non-null  int64  \n",
            " 1   LABEL         312670 non-null  object \n",
            " 2   REG           312670 non-null  object \n",
            " 3   MCK           312670 non-null  int64  \n",
            " 4   LCR           312670 non-null  float64\n",
            " 5   LU            312670 non-null  int64  \n",
            " 6   PP            312670 non-null  float64\n",
            " 7   USER_NETWORK  279655 non-null  object \n",
            " 8   MANUFACTURE   279655 non-null  object \n",
            " 9   HS_VOLTE      269438 non-null  object \n",
            " 10  CUST_CAT      280918 non-null  object \n",
            " 11  SIM_TYPE      307369 non-null  object \n",
            " 12  PROV_4G       312670 non-null  object \n",
            " 13  PROV_VOLTE    312670 non-null  object \n",
            " 14  D2G           312670 non-null  float64\n",
            " 15  D3G           312670 non-null  float64\n",
            " 16  D4G           312670 non-null  float64\n",
            " 17  V2G           312670 non-null  float64\n",
            " 18  V3G           312670 non-null  float64\n",
            " 19  V4G           312670 non-null  float64\n",
            "dtypes: float64(8), int64(3), object(9)\n",
            "memory usage: 47.7+ MB\n"
          ]
        }
      ]
    },
    {
      "cell_type": "code",
      "source": [
        "df.isnull().sum()"
      ],
      "metadata": {
        "colab": {
          "base_uri": "https://localhost:8080/"
        },
        "id": "c3PIDEM1k3ec",
        "outputId": "4a961ecf-978c-419f-990e-afe7895dbed3"
      },
      "execution_count": null,
      "outputs": [
        {
          "output_type": "execute_result",
          "data": {
            "text/plain": [
              "Unique ID           0\n",
              "LABEL               0\n",
              "REG                 0\n",
              "MCK                 0\n",
              "LCR                 0\n",
              "LU                  0\n",
              "PP                  0\n",
              "USER_NETWORK    33015\n",
              "MANUFACTURE     33015\n",
              "HS_VOLTE        43232\n",
              "CUST_CAT        31752\n",
              "SIM_TYPE         5301\n",
              "PROV_4G             0\n",
              "PROV_VOLTE          0\n",
              "D2G                 0\n",
              "D3G                 0\n",
              "D4G                 0\n",
              "V2G                 0\n",
              "V3G                 0\n",
              "V4G                 0\n",
              "dtype: int64"
            ]
          },
          "metadata": {},
          "execution_count": 4
        }
      ]
    },
    {
      "cell_type": "code",
      "source": [
        "df.dropna(inplace=True)"
      ],
      "metadata": {
        "id": "GannyjdDk8Al"
      },
      "execution_count": null,
      "outputs": []
    },
    {
      "cell_type": "code",
      "source": [
        "df.isnull().sum()"
      ],
      "metadata": {
        "colab": {
          "base_uri": "https://localhost:8080/"
        },
        "id": "1mUyCu0kmuZB",
        "outputId": "9b2f7c6a-68f2-4183-fd1b-586acb51a654"
      },
      "execution_count": null,
      "outputs": [
        {
          "output_type": "execute_result",
          "data": {
            "text/plain": [
              "Unique ID       0\n",
              "LABEL           0\n",
              "REG             0\n",
              "MCK             0\n",
              "LCR             0\n",
              "LU              0\n",
              "PP              0\n",
              "USER_NETWORK    0\n",
              "MANUFACTURE     0\n",
              "HS_VOLTE        0\n",
              "CUST_CAT        0\n",
              "SIM_TYPE        0\n",
              "PROV_4G         0\n",
              "PROV_VOLTE      0\n",
              "D2G             0\n",
              "D3G             0\n",
              "D4G             0\n",
              "V2G             0\n",
              "V3G             0\n",
              "V4G             0\n",
              "dtype: int64"
            ]
          },
          "metadata": {},
          "execution_count": 6
        }
      ]
    },
    {
      "cell_type": "code",
      "source": [
        "from sklearn.preprocessing import LabelEncoder\n",
        "label_enc =LabelEncoder()\n",
        "for i in df.columns:\n",
        "    if df[i].dtypes=='object':\n",
        "        df[i]=label_enc.fit_transform(df[i])"
      ],
      "metadata": {
        "id": "BCU4BgLLlCMU"
      },
      "execution_count": null,
      "outputs": []
    },
    {
      "cell_type": "code",
      "source": [
        "df.duplicated()"
      ],
      "metadata": {
        "colab": {
          "base_uri": "https://localhost:8080/"
        },
        "id": "Y0scc5EElE4J",
        "outputId": "9ed6ae45-80a9-4131-c77e-939f86aa821d"
      },
      "execution_count": null,
      "outputs": [
        {
          "output_type": "execute_result",
          "data": {
            "text/plain": [
              "0         False\n",
              "1         False\n",
              "2         False\n",
              "4         False\n",
              "5         False\n",
              "          ...  \n",
              "312489    False\n",
              "312490    False\n",
              "312491    False\n",
              "312492    False\n",
              "312494    False\n",
              "Length: 243477, dtype: bool"
            ]
          },
          "metadata": {},
          "execution_count": 8
        }
      ]
    },
    {
      "cell_type": "code",
      "source": [
        "df.plot(x='USER_NETWORK',y='REG',kind='scatter')\n",
        "plt.show()"
      ],
      "metadata": {
        "colab": {
          "base_uri": "https://localhost:8080/",
          "height": 449
        },
        "id": "GbA7zN7ClLVk",
        "outputId": "46597b36-56a0-4291-eaf7-8f72ba80676d"
      },
      "execution_count": null,
      "outputs": [
        {
          "output_type": "display_data",
          "data": {
            "text/plain": [
              "<Figure size 640x480 with 1 Axes>"
            ],
            "image/png": "[encoded data removed]"
          },
          "metadata": {}
        }
      ]
    },
    {
      "cell_type": "code",
      "source": [
        "df[\"LABEL\"].plot(kind='hist')\n",
        "plt.show()"
      ],
      "metadata": {
        "colab": {
          "base_uri": "https://localhost:8080/",
          "height": 430
        },
        "id": "VIl43h6PlPYM",
        "outputId": "531b4f2a-9b35-4df9-f074-148e59a58ede"
      },
      "execution_count": null,
      "outputs": [
        {
          "output_type": "display_data",
          "data": {
            "text/plain": [
              "<Figure size 640x480 with 1 Axes>"
            ],
            "image/png": "[encoded data removed]"
          },
          "metadata": {}
        }
      ]
    },
    {
      "cell_type": "code",
      "source": [
        "df.plot(x='CUST_CAT',y='MANUFACTURE',kind='scatter')\n",
        "plt.show()"
      ],
      "metadata": {
        "colab": {
          "base_uri": "https://localhost:8080/",
          "height": 449
        },
        "id": "GH7oxQk7lUZT",
        "outputId": "5d27e852-ef8b-4bd7-9f65-7991f682bc85"
      },
      "execution_count": null,
      "outputs": [
        {
          "output_type": "display_data",
          "data": {
            "text/plain": [
              "<Figure size 640x480 with 1 Axes>"
            ],
            "image/png": "[encoded data removed]"
          },
          "metadata": {}
        }
      ]
    },
    {
      "cell_type": "code",
      "source": [
        "df[\"PROV_VOLTE\"].plot(kind='hist')\n",
        "plt.show()"
      ],
      "metadata": {
        "colab": {
          "base_uri": "https://localhost:8080/",
          "height": 430
        },
        "id": "HHwq4GtDlZmg",
        "outputId": "f98586d0-d3e0-4dc5-b1b7-cf96fe5c430f"
      },
      "execution_count": null,
      "outputs": [
        {
          "output_type": "display_data",
          "data": {
            "text/plain": [
              "<Figure size 640x480 with 1 Axes>"
            ],
            "image/png": "[encoded data removed]"
          },
          "metadata": {}
        }
      ]
    },
    {
      "cell_type": "code",
      "source": [
        "x=df.iloc[:,1:]\n",
        "y=df.iloc[:,0]"
      ],
      "metadata": {
        "id": "_BnUNNUilaaJ"
      },
      "execution_count": null,
      "outputs": []
    },
    {
      "cell_type": "code",
      "source": [
        "from sklearn.model_selection import train_test_split\n",
        "x_train,x_test,y_train,y_test=train_test_split(x,y,test_size=0.3,random_state=5)"
      ],
      "metadata": {
        "id": "IP7E2SXVliFT"
      },
      "execution_count": null,
      "outputs": []
    },
    {
      "cell_type": "code",
      "source": [
        "from sklearn.tree import DecisionTreeClassifier\n",
        "dt=DecisionTreeClassifier()\n",
        "dt.fit(x_train,y_train)\n",
        "pred1=dt.predict(x_test)"
      ],
      "metadata": {
        "id": "-J0grnrPljej"
      },
      "execution_count": null,
      "outputs": []
    },
    {
      "cell_type": "code",
      "source": [],
      "metadata": {
        "id": "cCKiRpA5uTqt"
      },
      "execution_count": null,
      "outputs": []
    },
    {
      "cell_type": "code",
      "source": [
        "##recall--------------->\n",
        "from sklearn.metrics import recall_score\n",
        "rec1 = recall_score(y_test, pred1,average='weighted')\n",
        "print(rec1)"
      ],
      "metadata": {
        "id": "W8Bkokj6o8cq"
      },
      "execution_count": null,
      "outputs": []
    },
    {
      "cell_type": "code",
      "source": [
        "#perc------------------->\n",
        "from sklearn.metrics import precision_score\n",
        "p1= precision_score(y_test,pred1,average='micro')\n",
        "print(p1)"
      ],
      "metadata": {
        "id": "qROuORYXpBL0"
      },
      "execution_count": null,
      "outputs": []
    },
    {
      "cell_type": "code",
      "source": [
        "from sklearn.metrics import confusion_matrix\n",
        "c= confusion_matrix(y_test,pred1)\n",
        "sns.heatmap(c,annot=True,fmt='g')\n",
        "plt.ylabel('Prediction',fontsize=13)\n",
        "plt.xlabel('Actual',fontsize=13)\n",
        "plt.title('Confusion Matrix',fontsize=17)\n",
        "plt.show()"
      ],
      "metadata": {
        "id": "UeWQ63G-pELK"
      },
      "execution_count": null,
      "outputs": []
    },
    {
      "cell_type": "code",
      "source": [
        "from sklearn.linear_model import LinearRegression\n",
        "li=LinearRegression()\n",
        "li.fit(x_train,y_train)\n",
        "pred2=li.predict(x_test)\n",
        "from sklearn.metrics import mean_squared_error\n",
        "mean_squared_error(y_test,pred2)"
      ],
      "metadata": {
        "id": "rNBErcBRpG-S"
      },
      "execution_count": null,
      "outputs": []
    },
    {
      "cell_type": "code",
      "source": [
        "from sklearn import svm\n",
        "from sklearn.svm import SVC\n",
        "s=SVC()\n",
        "s.fit(x_train,y_train)\n",
        "pred3=s.predict(x_test)\n",
        "accuracy_score(y_test,pred3)"
      ],
      "metadata": {
        "id": "MedjcKpdpK-u"
      },
      "execution_count": null,
      "outputs": []
    },
    {
      "cell_type": "code",
      "source": [
        "##recall--------------->\n",
        "from sklearn.metrics import recall_score\n",
        "rec2 = recall_score(y_test, pred1,average='weighted')\n",
        "print(rec2)"
      ],
      "metadata": {
        "id": "0AMqX7GkpROc"
      },
      "execution_count": null,
      "outputs": []
    },
    {
      "cell_type": "code",
      "source": [
        "#perc------------------->\n",
        "from sklearn.metrics import precision_score\n",
        "p2= precision_score(y_test,pred1,average='micro')\n",
        "print(p2)"
      ],
      "metadata": {
        "id": "IuuI1wh_pTTN"
      },
      "execution_count": null,
      "outputs": []
    },
    {
      "cell_type": "code",
      "source": [
        "from sklearn import linear_model\n",
        "log=linear_model.LogisticRegression()\n",
        "log.fit(x_train,y_train)\n",
        "pred4=log.predict(x_test)\n",
        "accuracy_score(y_test,pred4)"
      ],
      "metadata": {
        "id": "bk-mL-GjpWgT"
      },
      "execution_count": null,
      "outputs": []
    },
    {
      "cell_type": "code",
      "source": [
        "from sklearn.naive_bayes import GaussianNB\n",
        "nb=GaussianNB()\n",
        "nb.fit(x_train,y_train)\n",
        "pred5=nb.predict(x_test)\n",
        "accuracy_score(y_test,pred5)"
      ],
      "metadata": {
        "id": "dcbwiitZpZPq"
      },
      "execution_count": null,
      "outputs": []
    },
    {
      "cell_type": "code",
      "source": [
        "##recall--------------->\n",
        "from sklearn.metrics import recall_score\n",
        "rec3 = recall_score(y_test, pred1,average='weighted')\n",
        "print(rec3)"
      ],
      "metadata": {
        "id": "2EqM_WLUpcNU"
      },
      "execution_count": null,
      "outputs": []
    },
    {
      "cell_type": "code",
      "source": [
        "#perc------------------->\n",
        "from sklearn.metrics import precision_score\n",
        "p3= precision_score(y_test,pred1,average='micro')\n",
        "print(p3)"
      ],
      "metadata": {
        "id": "18LA0s1tpgIA"
      },
      "execution_count": null,
      "outputs": []
    },
    {
      "cell_type": "code",
      "source": [
        "from sklearn.ensemble import RandomForestClassifier\n",
        "reg= RandomForestClassifier()\n",
        "reg.fit(x_train,y_train)\n",
        "pred6=reg.predict(x_test)\n",
        "accuracy_score(y_test,pred6)"
      ],
      "metadata": {
        "id": "1zGUvBUdpg3C"
      },
      "execution_count": null,
      "outputs": []
    },
    {
      "cell_type": "code",
      "source": [
        "from sklearn.neighbors import KNeighborsClassifier\n",
        "kn=KNeighborsClassifier()\n",
        "kn.fit(x_train,y_train)\n",
        "pred7=kn.predict(x_test)\n",
        "accuracy_score(y_test,pred7)"
      ],
      "metadata": {
        "id": "-aF038bLpjY5"
      },
      "execution_count": null,
      "outputs": []
    }
  ]
}